{
 "cells": [
  {
   "cell_type": "markdown",
   "id": "40762200-a8a0-40b1-8830-7270bb4135f6",
   "metadata": {},
   "source": [
    "from example https://github.com/reichenbch/RAG-examples/blob/main/LangChain%20LLamaIndex%20RAG.ipynb"
   ]
  },
  {
   "cell_type": "code",
   "execution_count": 1,
   "id": "7a5a7b05-4447-41d3-80f8-595a7ec06a6a",
   "metadata": {},
   "outputs": [],
   "source": [
    "%load_ext autoreload\n",
    "%autoreload 2\n",
    "import sys,torch, os\n",
    "sys.path.insert(0, '/home/sulcan/Documents/ipac-logbook/code/')\n",
    "from desy_wrapper import logbook_to_documents\n",
    "from gradio_wrapper import *\n",
    "import configparser\n",
    "\n",
    "config = configparser.ConfigParser()\n",
    "config.read('../config/XFELelog.ini')\n",
    "\n",
    "device = ('cuda' if torch.cuda.is_available() else 'cpu')\n",
    "data_folder = config['sources']['data_folder']\n",
    "data_file = config['sources']['data_file']\n",
    "faiss_index = config['sources']['faiss_index']"
   ]
  },
  {
   "cell_type": "code",
   "execution_count": 2,
   "id": "d0299fc7-b50b-45c9-8561-ff6e98338d18",
   "metadata": {},
   "outputs": [
    {
     "data": {
      "application/vnd.jupyter.widget-view+json": {
       "model_id": "f6990f9e9f6d408590d8c0eecc761d51",
       "version_major": 2,
       "version_minor": 0
      },
      "text/plain": [
       "Loading checkpoint shards:   0%|          | 0/3 [00:00<?, ?it/s]"
      ]
     },
     "metadata": {},
     "output_type": "display_data"
    }
   ],
   "source": [
    "embedding = prepare_embedding()\n",
    "\n",
    "if os.path.isfile(f'{faiss_index}/index.faiss'):\n",
    "    vectorstore = FAISS.load_local(faiss_index, embedding, allow_dangerous_deserialization=True)\n",
    "else:\n",
    "    data = logbook_to_documents(data_file)\n",
    "    vectorstore = prepare_vectorstore(data.values(), embedding)\n",
    "    vectorstore.save_local(faiss_index)\n",
    "\n",
    "retriever = prepare_retriever(vectorstore)\n",
    "tokenizer, model = prepare_llm(device = device)"
   ]
  },
  {
   "cell_type": "code",
   "execution_count": 3,
   "id": "bca08af4-8dcb-44dc-8946-e8d8480a299c",
   "metadata": {},
   "outputs": [],
   "source": [
    "query = 'Compile a list of all BPMs at I1?'"
   ]
  },
  {
   "cell_type": "code",
   "execution_count": 5,
   "id": "a996a959-fcb4-4b9f-ae4c-43cd88f560e1",
   "metadata": {},
   "outputs": [
    {
     "name": "stderr",
     "output_type": "stream",
     "text": [
      "The attention mask and the pad token id were not set. As a consequence, you may observe unexpected behavior. Please pass your input's `attention_mask` to obtain reliable results.\n",
      "Setting `pad_token_id` to `eos_token_id`:2 for open-end generation.\n"
     ]
    }
   ],
   "source": [
    "query, answer = generate(query, retriever, tokenizer, model, device)"
   ]
  },
  {
   "cell_type": "code",
   "execution_count": 6,
   "id": "3db3100d-524f-49ee-a7b3-6ac31505da17",
   "metadata": {},
   "outputs": [
    {
     "name": "stdout",
     "output_type": "stream",
     "text": [
      "Compile a list of all BPMs at I1?  Based on the context provided, the following is a list of BPMs at I1:\n",
      "\n",
      "* BPMF.48.I1\n",
      "* BPMA.92.I1\n",
      "* BPMA.117.I1\n",
      "* BPMA.134.L1\n",
      "* BPMA.158.L1\n",
      "* BPMA.179.B1\n",
      "* BPMA.103.I1\n",
      "* BPMA.105.I1\n",
      "* BPMA.107.I1\n",
      "* BPMA.110.I1\n",
      "* BPMA.112.I1\n",
      "* BPMA.115.I1\n",
      "* BPMA.117.I1\n",
      "* BPMA.119.I1\n",
      "\n",
      "Please note that some of these BPMs were set on different dates, as indicated in the context.\n"
     ]
    }
   ],
   "source": [
    "print(query,answer)"
   ]
  },
  {
   "cell_type": "code",
   "execution_count": 14,
   "id": "d5f2c355-ef80-4b96-8fff-c833ff9fd327",
   "metadata": {},
   "outputs": [
    {
     "name": "stdout",
     "output_type": "stream",
     "text": [
      "'/home/sulcan/Documents/logbook/data_local/'\n"
     ]
    }
   ],
   "source": [
    "\n",
    "# config = ConfigParser.ConfigParser()"
   ]
  },
  {
   "cell_type": "code",
   "execution_count": null,
   "id": "aa953363-95f6-4626-b097-73b5fdce4b55",
   "metadata": {},
   "outputs": [],
   "source": []
  },
  {
   "cell_type": "code",
   "execution_count": null,
   "id": "048521f3-c9ac-4e50-b352-29e33c4c2a53",
   "metadata": {},
   "outputs": [],
   "source": []
  }
 ],
 "metadata": {
  "kernelspec": {
   "display_name": "Python 3",
   "language": "python",
   "name": "python3"
  },
  "language_info": {
   "codemirror_mode": {
    "name": "ipython",
    "version": 3
   },
   "file_extension": ".py",
   "mimetype": "text/x-python",
   "name": "python",
   "nbconvert_exporter": "python",
   "pygments_lexer": "ipython3",
   "version": "3.9.16"
  }
 },
 "nbformat": 4,
 "nbformat_minor": 5
}
